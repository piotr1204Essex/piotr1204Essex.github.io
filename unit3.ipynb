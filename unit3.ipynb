{
 "cells": [
  {
   "attachments": {},
   "cell_type": "markdown",
   "metadata": {},
   "source": [
    "Imports"
   ]
  },
  {
   "cell_type": "code",
   "execution_count": 62,
   "metadata": {},
   "outputs": [],
   "source": [
    "import pandas as pd\n",
    "import numpy as np"
   ]
  },
  {
   "attachments": {},
   "cell_type": "markdown",
   "metadata": {},
   "source": [
    "Reading files"
   ]
  },
  {
   "cell_type": "code",
   "execution_count": 63,
   "metadata": {},
   "outputs": [],
   "source": [
    "mn = pd.read_csv(\"mn.csv\", low_memory=False)\n",
    "mn_headers = pd.read_csv(\"mn_headers.csv\")"
   ]
  },
  {
   "attachments": {},
   "cell_type": "markdown",
   "metadata": {},
   "source": [
    "Data cleaning task"
   ]
  },
  {
   "cell_type": "code",
   "execution_count": 64,
   "metadata": {},
   "outputs": [],
   "source": [
    "def get_dataset_info(df):\n",
    "    df.info()"
   ]
  },
  {
   "cell_type": "code",
   "execution_count": 65,
   "metadata": {},
   "outputs": [],
   "source": [
    "def describe_dataset(df):\n",
    "    df.describe()"
   ]
  },
  {
   "cell_type": "code",
   "execution_count": 66,
   "metadata": {},
   "outputs": [],
   "source": [
    "def display_dataset_head(df):\n",
    "    df.head(10)"
   ]
  },
  {
   "cell_type": "code",
   "execution_count": 67,
   "metadata": {},
   "outputs": [],
   "source": [
    "def display_dataset_tail(df):\n",
    "    df.tail(10)"
   ]
  },
  {
   "cell_type": "code",
   "execution_count": 68,
   "metadata": {},
   "outputs": [],
   "source": [
    "# creating dictionary of headers to replace column names\n",
    "def create_dictionary_from_two_columns(col1, col2):\n",
    "    return dict(zip(col1, col2))\n",
    "\n",
    "mn_headers_dict = create_dictionary_from_two_columns(mn_headers['Name'], mn_headers['Label'])"
   ]
  },
  {
   "cell_type": "code",
   "execution_count": 69,
   "metadata": {},
   "outputs": [],
   "source": [
    "# for loop that replaces the header name if such name is present in headers dictionary\n",
    "def replace_header_names(col_list, dictionary):\n",
    "    save_list = []\n",
    "    for col in col_list:\n",
    "        if col in dictionary.keys():\n",
    "            for key in dictionary.keys():\n",
    "                if col == key:\n",
    "                    save_list.append(dictionary.get(key))\n",
    "                    break\n",
    "                else:\n",
    "                    continue\n",
    "        else:\n",
    "            save_list.append(col)\n",
    "    return save_list\n",
    "\n",
    "mn.columns = replace_header_names(mn.columns, mn_headers_dict)"
   ]
  },
  {
   "cell_type": "code",
   "execution_count": 70,
   "metadata": {},
   "outputs": [],
   "source": [
    "# selecting columns with numerical values for clean up\n",
    "# rounding all numerical values to X decimal\n",
    "def rounding_numerical_columns(df, precision):\n",
    "\n",
    "    modification_types = [np.float64, np.float32,np.int32, np.int64]\n",
    "    mask = df.dtypes.isin(modification_types)\n",
    "    columns_to_round = df.loc[:, mask]\n",
    "    for col in columns_to_round.columns:\n",
    "        df[col] = round(df[col], precision)\n",
    "    return df    \n",
    "mn = rounding_numerical_columns(mn, 2)"
   ]
  },
  {
   "cell_type": "code",
   "execution_count": 79,
   "metadata": {},
   "outputs": [],
   "source": [
    "# interpolating for missing values, as taken strategy for handling numerical nulls\n",
    "def interpolate_missing_numerical_values(df):\n",
    "    df.interpolate(inplace=True)"
   ]
  },
  {
   "cell_type": "code",
   "execution_count": 80,
   "metadata": {},
   "outputs": [],
   "source": [
    "# dropping (if any) duplicate rows, only for exact same rows duplicated, keeping 1st one\n",
    "def dropping_duplicated(df):\n",
    "    df.drop_duplicates(keep='first', inplace=True)"
   ]
  }
 ],
 "metadata": {
  "kernelspec": {
   "display_name": "Python 3",
   "language": "python",
   "name": "python3"
  },
  "language_info": {
   "codemirror_mode": {
    "name": "ipython",
    "version": 3
   },
   "file_extension": ".py",
   "mimetype": "text/x-python",
   "name": "python",
   "nbconvert_exporter": "python",
   "pygments_lexer": "ipython3",
   "version": "3.9.6"
  },
  "orig_nbformat": 4,
  "vscode": {
   "interpreter": {
    "hash": "31f2aee4e71d21fbe5cf8b01ff0e069b9275f58929596ceb00d14d90e3e16cd6"
   }
  }
 },
 "nbformat": 4,
 "nbformat_minor": 2
}
